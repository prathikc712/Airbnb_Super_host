{
 "cells": [
  {
   "cell_type": "code",
   "execution_count": 1,
   "id": "75eea34a-2725-4adc-9e13-57438b1ae9a6",
   "metadata": {},
   "outputs": [],
   "source": [
    "import pandas as pd\n",
    "import matplotlib.pyplot as plt\n",
    "from sklearn.model_selection import train_test_split, GridSearchCV\n",
    "from sklearn.pipeline import Pipeline\n",
    "from sklearn.naive_bayes import MultinomialNB\n",
    "from sklearn.linear_model import LogisticRegression\n",
    "from sklearn.metrics import confusion_matrix, plot_confusion_matrix\n",
    "\n",
    "from sklearn.feature_extraction.text import CountVectorizer, TfidfVectorizer\n",
    "import seaborn as sns\n",
    "import matplotlib.pyplot as plt\n",
    "from sklearn.compose import ColumnTransformer\n",
    "from sklearn.preprocessing import PolynomialFeatures, StandardScaler"
   ]
  },
  {
   "cell_type": "code",
   "execution_count": 11,
   "id": "5cd21bfe-02ef-43a3-b7c0-867faef3a65d",
   "metadata": {},
   "outputs": [],
   "source": [
    "airbnb = pd.read_csv('Data/Airbnb final csv.csv')"
   ]
  },
  {
   "cell_type": "code",
   "execution_count": 12,
   "id": "601e399a-fa3e-4fb8-98cf-c2b27c04543c",
   "metadata": {},
   "outputs": [
    {
     "data": {
      "text/html": [
       "<div>\n",
       "<style scoped>\n",
       "    .dataframe tbody tr th:only-of-type {\n",
       "        vertical-align: middle;\n",
       "    }\n",
       "\n",
       "    .dataframe tbody tr th {\n",
       "        vertical-align: top;\n",
       "    }\n",
       "\n",
       "    .dataframe thead th {\n",
       "        text-align: right;\n",
       "    }\n",
       "</style>\n",
       "<table border=\"1\" class=\"dataframe\">\n",
       "  <thead>\n",
       "    <tr style=\"text-align: right;\">\n",
       "      <th></th>\n",
       "      <th>listing_id</th>\n",
       "      <th>comments</th>\n",
       "      <th>name</th>\n",
       "      <th>host_response_time</th>\n",
       "      <th>host_response_rate</th>\n",
       "      <th>host_is_superhost</th>\n",
       "      <th>review_scores_rating</th>\n",
       "      <th>reviews_per_month</th>\n",
       "    </tr>\n",
       "  </thead>\n",
       "  <tbody>\n",
       "    <tr>\n",
       "      <th>0</th>\n",
       "      <td>5456</td>\n",
       "      <td>Sylvia is a hostess who is gracious and helpfu...</td>\n",
       "      <td>Walk to 6th, Rainey St and Convention Ctr</td>\n",
       "      <td>within a few hours</td>\n",
       "      <td>100%</td>\n",
       "      <td>t</td>\n",
       "      <td>4.83</td>\n",
       "      <td>3.72</td>\n",
       "    </tr>\n",
       "    <tr>\n",
       "      <th>1</th>\n",
       "      <td>5769</td>\n",
       "      <td>Elizabeth was really nice and friendly. She he...</td>\n",
       "      <td>NW Austin Room</td>\n",
       "      <td>within a day</td>\n",
       "      <td>100%</td>\n",
       "      <td>f</td>\n",
       "      <td>4.90</td>\n",
       "      <td>1.78</td>\n",
       "    </tr>\n",
       "    <tr>\n",
       "      <th>2</th>\n",
       "      <td>6413</td>\n",
       "      <td>Had a wonderful time at this awesome, spacious...</td>\n",
       "      <td>Gem of a Studio near Downtown</td>\n",
       "      <td>within a few hours</td>\n",
       "      <td>86%</td>\n",
       "      <td>t</td>\n",
       "      <td>4.97</td>\n",
       "      <td>0.78</td>\n",
       "    </tr>\n",
       "    <tr>\n",
       "      <th>3</th>\n",
       "      <td>6448</td>\n",
       "      <td>Amy and family were wonderful hosts! The house...</td>\n",
       "      <td>Secluded Studio @ Zilker - King Bed, Bright &amp; ...</td>\n",
       "      <td>within an hour</td>\n",
       "      <td>100%</td>\n",
       "      <td>t</td>\n",
       "      <td>4.97</td>\n",
       "      <td>2.12</td>\n",
       "    </tr>\n",
       "    <tr>\n",
       "      <th>4</th>\n",
       "      <td>8502</td>\n",
       "      <td>The place was nice, it was like a disco in the...</td>\n",
       "      <td>Woodland Studio Lodging</td>\n",
       "      <td>within a day</td>\n",
       "      <td>100%</td>\n",
       "      <td>f</td>\n",
       "      <td>4.53</td>\n",
       "      <td>0.32</td>\n",
       "    </tr>\n",
       "  </tbody>\n",
       "</table>\n",
       "</div>"
      ],
      "text/plain": [
       "  listing_id                                           comments  \\\n",
       "0       5456  Sylvia is a hostess who is gracious and helpfu...   \n",
       "1       5769  Elizabeth was really nice and friendly. She he...   \n",
       "2       6413  Had a wonderful time at this awesome, spacious...   \n",
       "3       6448  Amy and family were wonderful hosts! The house...   \n",
       "4       8502  The place was nice, it was like a disco in the...   \n",
       "\n",
       "                                                name  host_response_time  \\\n",
       "0          Walk to 6th, Rainey St and Convention Ctr  within a few hours   \n",
       "1                                     NW Austin Room        within a day   \n",
       "2                      Gem of a Studio near Downtown  within a few hours   \n",
       "3  Secluded Studio @ Zilker - King Bed, Bright & ...      within an hour   \n",
       "4                            Woodland Studio Lodging        within a day   \n",
       "\n",
       "  host_response_rate host_is_superhost  review_scores_rating  \\\n",
       "0               100%                 t                  4.83   \n",
       "1               100%                 f                  4.90   \n",
       "2                86%                 t                  4.97   \n",
       "3               100%                 t                  4.97   \n",
       "4               100%                 f                  4.53   \n",
       "\n",
       "   reviews_per_month  \n",
       "0               3.72  \n",
       "1               1.78  \n",
       "2               0.78  \n",
       "3               2.12  \n",
       "4               0.32  "
      ]
     },
     "execution_count": 12,
     "metadata": {},
     "output_type": "execute_result"
    }
   ],
   "source": [
    "airbnb.head()"
   ]
  },
  {
   "cell_type": "markdown",
   "id": "f94b4ec6-3fad-4c3a-9654-6a018f7c730e",
   "metadata": {},
   "source": [
    "Picked these features because they are the ones that talk about host's performance."
   ]
  },
  {
   "cell_type": "code",
   "execution_count": 13,
   "id": "41d369ba-af06-4001-9a55-38868bc66fa6",
   "metadata": {},
   "outputs": [],
   "source": [
    "airbnb1 = airbnb.dropna()"
   ]
  },
  {
   "cell_type": "code",
   "execution_count": 15,
   "id": "d43239ec-f0b1-43e0-ad14-d736ccce6bc3",
   "metadata": {},
   "outputs": [
    {
     "data": {
      "text/html": [
       "<div>\n",
       "<style scoped>\n",
       "    .dataframe tbody tr th:only-of-type {\n",
       "        vertical-align: middle;\n",
       "    }\n",
       "\n",
       "    .dataframe tbody tr th {\n",
       "        vertical-align: top;\n",
       "    }\n",
       "\n",
       "    .dataframe thead th {\n",
       "        text-align: right;\n",
       "    }\n",
       "</style>\n",
       "<table border=\"1\" class=\"dataframe\">\n",
       "  <thead>\n",
       "    <tr style=\"text-align: right;\">\n",
       "      <th></th>\n",
       "      <th>host_is_superhost</th>\n",
       "      <th>comments</th>\n",
       "      <th>host_response_time</th>\n",
       "      <th>host_response_rate</th>\n",
       "      <th>review_scores_rating</th>\n",
       "      <th>reviews_per_month</th>\n",
       "    </tr>\n",
       "  </thead>\n",
       "  <tbody>\n",
       "    <tr>\n",
       "      <th>0</th>\n",
       "      <td>t</td>\n",
       "      <td>Sylvia is a hostess who is gracious and helpfu...</td>\n",
       "      <td>within a few hours</td>\n",
       "      <td>100%</td>\n",
       "      <td>4.83</td>\n",
       "      <td>3.72</td>\n",
       "    </tr>\n",
       "    <tr>\n",
       "      <th>1</th>\n",
       "      <td>f</td>\n",
       "      <td>Elizabeth was really nice and friendly. She he...</td>\n",
       "      <td>within a day</td>\n",
       "      <td>100%</td>\n",
       "      <td>4.90</td>\n",
       "      <td>1.78</td>\n",
       "    </tr>\n",
       "    <tr>\n",
       "      <th>2</th>\n",
       "      <td>t</td>\n",
       "      <td>Had a wonderful time at this awesome, spacious...</td>\n",
       "      <td>within a few hours</td>\n",
       "      <td>86%</td>\n",
       "      <td>4.97</td>\n",
       "      <td>0.78</td>\n",
       "    </tr>\n",
       "    <tr>\n",
       "      <th>3</th>\n",
       "      <td>t</td>\n",
       "      <td>Amy and family were wonderful hosts! The house...</td>\n",
       "      <td>within an hour</td>\n",
       "      <td>100%</td>\n",
       "      <td>4.97</td>\n",
       "      <td>2.12</td>\n",
       "    </tr>\n",
       "    <tr>\n",
       "      <th>4</th>\n",
       "      <td>f</td>\n",
       "      <td>The place was nice, it was like a disco in the...</td>\n",
       "      <td>within a day</td>\n",
       "      <td>100%</td>\n",
       "      <td>4.53</td>\n",
       "      <td>0.32</td>\n",
       "    </tr>\n",
       "  </tbody>\n",
       "</table>\n",
       "</div>"
      ],
      "text/plain": [
       "  host_is_superhost                                           comments  \\\n",
       "0                 t  Sylvia is a hostess who is gracious and helpfu...   \n",
       "1                 f  Elizabeth was really nice and friendly. She he...   \n",
       "2                 t  Had a wonderful time at this awesome, spacious...   \n",
       "3                 t  Amy and family were wonderful hosts! The house...   \n",
       "4                 f  The place was nice, it was like a disco in the...   \n",
       "\n",
       "   host_response_time host_response_rate  review_scores_rating  \\\n",
       "0  within a few hours               100%                  4.83   \n",
       "1        within a day               100%                  4.90   \n",
       "2  within a few hours                86%                  4.97   \n",
       "3      within an hour               100%                  4.97   \n",
       "4        within a day               100%                  4.53   \n",
       "\n",
       "   reviews_per_month  \n",
       "0               3.72  \n",
       "1               1.78  \n",
       "2               0.78  \n",
       "3               2.12  \n",
       "4               0.32  "
      ]
     },
     "execution_count": 15,
     "metadata": {},
     "output_type": "execute_result"
    }
   ],
   "source": [
    "airbnb2 = airbnb1[['host_is_superhost','comments','host_response_time', 'host_response_rate','review_scores_rating','reviews_per_month']]\n",
    "airbnb2.head()"
   ]
  },
  {
   "cell_type": "code",
   "execution_count": 16,
   "id": "f8395bdd-a2bd-445a-83b4-17d3db6a5962",
   "metadata": {},
   "outputs": [
    {
     "name": "stderr",
     "output_type": "stream",
     "text": [
      "/var/folders/25/5l_h2y610pg48l0kvvcy0zk40000gn/T/ipykernel_35013/3570783081.py:1: SettingWithCopyWarning: \n",
      "A value is trying to be set on a copy of a slice from a DataFrame.\n",
      "Try using .loc[row_indexer,col_indexer] = value instead\n",
      "\n",
      "See the caveats in the documentation: https://pandas.pydata.org/pandas-docs/stable/user_guide/indexing.html#returning-a-view-versus-a-copy\n",
      "  airbnb2['host_is_superhost'] = airbnb2['host_is_superhost'].map({'t': 0, 'f': 1})\n"
     ]
    },
    {
     "data": {
      "text/html": [
       "<div>\n",
       "<style scoped>\n",
       "    .dataframe tbody tr th:only-of-type {\n",
       "        vertical-align: middle;\n",
       "    }\n",
       "\n",
       "    .dataframe tbody tr th {\n",
       "        vertical-align: top;\n",
       "    }\n",
       "\n",
       "    .dataframe thead th {\n",
       "        text-align: right;\n",
       "    }\n",
       "</style>\n",
       "<table border=\"1\" class=\"dataframe\">\n",
       "  <thead>\n",
       "    <tr style=\"text-align: right;\">\n",
       "      <th></th>\n",
       "      <th>host_is_superhost</th>\n",
       "      <th>comments</th>\n",
       "      <th>host_response_time</th>\n",
       "      <th>host_response_rate</th>\n",
       "      <th>review_scores_rating</th>\n",
       "      <th>reviews_per_month</th>\n",
       "    </tr>\n",
       "  </thead>\n",
       "  <tbody>\n",
       "    <tr>\n",
       "      <th>0</th>\n",
       "      <td>0</td>\n",
       "      <td>Sylvia is a hostess who is gracious and helpfu...</td>\n",
       "      <td>within a few hours</td>\n",
       "      <td>100%</td>\n",
       "      <td>4.83</td>\n",
       "      <td>3.72</td>\n",
       "    </tr>\n",
       "    <tr>\n",
       "      <th>1</th>\n",
       "      <td>1</td>\n",
       "      <td>Elizabeth was really nice and friendly. She he...</td>\n",
       "      <td>within a day</td>\n",
       "      <td>100%</td>\n",
       "      <td>4.90</td>\n",
       "      <td>1.78</td>\n",
       "    </tr>\n",
       "    <tr>\n",
       "      <th>2</th>\n",
       "      <td>0</td>\n",
       "      <td>Had a wonderful time at this awesome, spacious...</td>\n",
       "      <td>within a few hours</td>\n",
       "      <td>86%</td>\n",
       "      <td>4.97</td>\n",
       "      <td>0.78</td>\n",
       "    </tr>\n",
       "    <tr>\n",
       "      <th>3</th>\n",
       "      <td>0</td>\n",
       "      <td>Amy and family were wonderful hosts! The house...</td>\n",
       "      <td>within an hour</td>\n",
       "      <td>100%</td>\n",
       "      <td>4.97</td>\n",
       "      <td>2.12</td>\n",
       "    </tr>\n",
       "    <tr>\n",
       "      <th>4</th>\n",
       "      <td>1</td>\n",
       "      <td>The place was nice, it was like a disco in the...</td>\n",
       "      <td>within a day</td>\n",
       "      <td>100%</td>\n",
       "      <td>4.53</td>\n",
       "      <td>0.32</td>\n",
       "    </tr>\n",
       "  </tbody>\n",
       "</table>\n",
       "</div>"
      ],
      "text/plain": [
       "   host_is_superhost                                           comments  \\\n",
       "0                  0  Sylvia is a hostess who is gracious and helpfu...   \n",
       "1                  1  Elizabeth was really nice and friendly. She he...   \n",
       "2                  0  Had a wonderful time at this awesome, spacious...   \n",
       "3                  0  Amy and family were wonderful hosts! The house...   \n",
       "4                  1  The place was nice, it was like a disco in the...   \n",
       "\n",
       "   host_response_time host_response_rate  review_scores_rating  \\\n",
       "0  within a few hours               100%                  4.83   \n",
       "1        within a day               100%                  4.90   \n",
       "2  within a few hours                86%                  4.97   \n",
       "3      within an hour               100%                  4.97   \n",
       "4        within a day               100%                  4.53   \n",
       "\n",
       "   reviews_per_month  \n",
       "0               3.72  \n",
       "1               1.78  \n",
       "2               0.78  \n",
       "3               2.12  \n",
       "4               0.32  "
      ]
     },
     "execution_count": 16,
     "metadata": {},
     "output_type": "execute_result"
    }
   ],
   "source": [
    "airbnb2['host_is_superhost'] = airbnb2['host_is_superhost'].map({'t': 0, 'f': 1})\n",
    "\n",
    "airbnb2.head()"
   ]
  },
  {
   "cell_type": "code",
   "execution_count": 23,
   "id": "30c842e1-86c8-4a53-b066-a0ce5a4a468d",
   "metadata": {},
   "outputs": [],
   "source": [
    "airbnb4 = airbnb1[['host_is_superhost','comments','host_response_time', 'host_response_rate','review_scores_rating','reviews_per_month']]"
   ]
  },
  {
   "cell_type": "code",
   "execution_count": 24,
   "id": "e26c95a2-7d05-401d-a4e6-838c8841edcd",
   "metadata": {},
   "outputs": [
    {
     "data": {
      "image/png": "[encoded data removed]",
      "text/plain": [
       "<Figure size 432x288 with 1 Axes>"
      ]
     },
     "metadata": {
      "needs_background": "light"
     },
     "output_type": "display_data"
    }
   ],
   "source": [
    "airbnb4.groupby(['host_is_superhost']).count().plot(kind='bar');"
   ]
  },
  {
   "cell_type": "markdown",
   "id": "2c12af7c-a6ae-444c-b312-c03f8d27d4ac",
   "metadata": {},
   "source": [
    "There are more instances of superhosts in this dataset than not superhosts, but not by much."
   ]
  },
  {
   "cell_type": "code",
   "execution_count": 25,
   "id": "414e0a0c-b390-4cdb-b946-2b4a96428b87",
   "metadata": {},
   "outputs": [
    {
     "data": {
      "text/html": [
       "<div>\n",
       "<style scoped>\n",
       "    .dataframe tbody tr th:only-of-type {\n",
       "        vertical-align: middle;\n",
       "    }\n",
       "\n",
       "    .dataframe tbody tr th {\n",
       "        vertical-align: top;\n",
       "    }\n",
       "\n",
       "    .dataframe thead th {\n",
       "        text-align: right;\n",
       "    }\n",
       "</style>\n",
       "<table border=\"1\" class=\"dataframe\">\n",
       "  <thead>\n",
       "    <tr style=\"text-align: right;\">\n",
       "      <th></th>\n",
       "      <th>host_is_superhost</th>\n",
       "      <th>comments</th>\n",
       "      <th>host_response_time</th>\n",
       "      <th>host_response_rate</th>\n",
       "      <th>review_scores_rating</th>\n",
       "      <th>reviews_per_month</th>\n",
       "      <th>comments_word_count</th>\n",
       "    </tr>\n",
       "  </thead>\n",
       "  <tbody>\n",
       "    <tr>\n",
       "      <th>0</th>\n",
       "      <td>t</td>\n",
       "      <td>Sylvia is a hostess who is gracious and helpfu...</td>\n",
       "      <td>within a few hours</td>\n",
       "      <td>100%</td>\n",
       "      <td>4.83</td>\n",
       "      <td>3.72</td>\n",
       "      <td>29813</td>\n",
       "    </tr>\n",
       "    <tr>\n",
       "      <th>1</th>\n",
       "      <td>f</td>\n",
       "      <td>Elizabeth was really nice and friendly. She he...</td>\n",
       "      <td>within a day</td>\n",
       "      <td>100%</td>\n",
       "      <td>4.90</td>\n",
       "      <td>1.78</td>\n",
       "      <td>12245</td>\n",
       "    </tr>\n",
       "    <tr>\n",
       "      <th>2</th>\n",
       "      <td>t</td>\n",
       "      <td>Had a wonderful time at this awesome, spacious...</td>\n",
       "      <td>within a few hours</td>\n",
       "      <td>86%</td>\n",
       "      <td>4.97</td>\n",
       "      <td>0.78</td>\n",
       "      <td>6373</td>\n",
       "    </tr>\n",
       "    <tr>\n",
       "      <th>3</th>\n",
       "      <td>t</td>\n",
       "      <td>Amy and family were wonderful hosts! The house...</td>\n",
       "      <td>within an hour</td>\n",
       "      <td>100%</td>\n",
       "      <td>4.97</td>\n",
       "      <td>2.12</td>\n",
       "      <td>14820</td>\n",
       "    </tr>\n",
       "    <tr>\n",
       "      <th>4</th>\n",
       "      <td>f</td>\n",
       "      <td>The place was nice, it was like a disco in the...</td>\n",
       "      <td>within a day</td>\n",
       "      <td>100%</td>\n",
       "      <td>4.53</td>\n",
       "      <td>0.32</td>\n",
       "      <td>2732</td>\n",
       "    </tr>\n",
       "  </tbody>\n",
       "</table>\n",
       "</div>"
      ],
      "text/plain": [
       "  host_is_superhost                                           comments  \\\n",
       "0                 t  Sylvia is a hostess who is gracious and helpfu...   \n",
       "1                 f  Elizabeth was really nice and friendly. She he...   \n",
       "2                 t  Had a wonderful time at this awesome, spacious...   \n",
       "3                 t  Amy and family were wonderful hosts! The house...   \n",
       "4                 f  The place was nice, it was like a disco in the...   \n",
       "\n",
       "   host_response_time host_response_rate  review_scores_rating  \\\n",
       "0  within a few hours               100%                  4.83   \n",
       "1        within a day               100%                  4.90   \n",
       "2  within a few hours                86%                  4.97   \n",
       "3      within an hour               100%                  4.97   \n",
       "4        within a day               100%                  4.53   \n",
       "\n",
       "   reviews_per_month  comments_word_count  \n",
       "0               3.72                29813  \n",
       "1               1.78                12245  \n",
       "2               0.78                 6373  \n",
       "3               2.12                14820  \n",
       "4               0.32                 2732  "
      ]
     },
     "execution_count": 25,
     "metadata": {},
     "output_type": "execute_result"
    }
   ],
   "source": [
    "airbnb3 = pd.concat([airbnb4])\n",
    "listss = []\n",
    "for x in list(airbnb4['comments']):\n",
    "    a = x.split()\n",
    "    listss.append(len(a))\n",
    "airbnb3['comments_word_count'] = listss\n",
    "airbnb3.head()"
   ]
  },
  {
   "cell_type": "code",
   "execution_count": 26,
   "id": "dbaff934-739b-4380-b970-0cf0998869c6",
   "metadata": {},
   "outputs": [
    {
     "data": {
      "text/plain": [
       "host_is_superhost\n",
       "f    1420.951867\n",
       "t    3143.427056\n",
       "Name: comments_word_count, dtype: float64"
      ]
     },
     "execution_count": 26,
     "metadata": {},
     "output_type": "execute_result"
    }
   ],
   "source": [
    "airbnb3.groupby(['host_is_superhost'])['comments_word_count'].mean()"
   ]
  },
  {
   "cell_type": "markdown",
   "id": "f8408170-4474-474e-aa1c-492d37a22419",
   "metadata": {},
   "source": [
    "Superhosts tend to have more words in the comments that hosts that are not superhosts."
   ]
  },
  {
   "cell_type": "code",
   "execution_count": 27,
   "id": "c24e5172-87bc-45d0-8c5f-af9e851ea044",
   "metadata": {},
   "outputs": [
    {
     "data": {
      "text/plain": [
       "host_is_superhost\n",
       "f    4.725651\n",
       "t    4.902036\n",
       "Name: review_scores_rating, dtype: float64"
      ]
     },
     "execution_count": 27,
     "metadata": {},
     "output_type": "execute_result"
    }
   ],
   "source": [
    "airbnb3.groupby(['host_is_superhost'])['review_scores_rating'].mean()"
   ]
  },
  {
   "cell_type": "markdown",
   "id": "3a363038-c699-4b50-9f6d-c56747cfa7e2",
   "metadata": {},
   "source": [
    "Superhosts on average have a 0.2 higher rating than regular hosts."
   ]
  },
  {
   "cell_type": "code",
   "execution_count": 28,
   "id": "ad593893-5199-4c10-8a41-65baf7c92f39",
   "metadata": {},
   "outputs": [
    {
     "data": {
      "text/plain": [
       "host_is_superhost\n",
       "f    1.370160\n",
       "t    2.313493\n",
       "Name: reviews_per_month, dtype: float64"
      ]
     },
     "execution_count": 28,
     "metadata": {},
     "output_type": "execute_result"
    }
   ],
   "source": [
    "airbnb3.groupby(['host_is_superhost'])['reviews_per_month'].mean()"
   ]
  },
  {
   "cell_type": "markdown",
   "id": "40885859-c2d6-48ea-aba2-30dac5d9a9f6",
   "metadata": {},
   "source": [
    "Superhosts on average have 1 more review per month than normal hosts."
   ]
  },
  {
   "cell_type": "code",
   "execution_count": 34,
   "id": "4c595e4a-d198-4fc7-afe4-d0152a57732a",
   "metadata": {},
   "outputs": [
    {
     "data": {
      "text/plain": [
       "host_is_superhost  host_response_time\n",
       "f                  a few days or more      67\n",
       "                   within a day           362\n",
       "                   within a few hours     588\n",
       "                   within an hour        3616\n",
       "t                  a few days or more       6\n",
       "                   within a day           151\n",
       "                   within a few hours     496\n",
       "                   within an hour        4248\n",
       "Name: host_response_time, dtype: int64"
      ]
     },
     "execution_count": 34,
     "metadata": {},
     "output_type": "execute_result"
    }
   ],
   "source": [
    "airbnb3.groupby(['host_is_superhost','host_response_time'])['host_response_time'].count()"
   ]
  },
  {
   "cell_type": "markdown",
   "id": "7783711a-dec3-4f60-b667-db0cff9d74d8",
   "metadata": {},
   "source": [
    "On average superhosts respons faster than normal hosts."
   ]
  },
  {
   "cell_type": "code",
   "execution_count": 48,
   "id": "2fcf7877-c047-4d3e-89a1-112df83f7829",
   "metadata": {},
   "outputs": [
    {
     "data": {
      "text/plain": [
       "host_is_superhost\n",
       "f    96.420246\n",
       "t    99.146909\n",
       "Name: host_response_rate, dtype: float64"
      ]
     },
     "execution_count": 48,
     "metadata": {},
     "output_type": "execute_result"
    }
   ],
   "source": [
    "airbnb3.groupby(['host_is_superhost'])['host_response_rate'].mean()"
   ]
  },
  {
   "cell_type": "markdown",
   "id": "92efb916-0016-431e-b6aa-24e783e08bcb",
   "metadata": {},
   "source": [
    "The response rate for superhosts is 2.7% higher than regular hosts."
   ]
  },
  {
   "cell_type": "code",
   "execution_count": 46,
   "id": "c00e2612-730b-4d17-90e4-6cdc0d11702a",
   "metadata": {},
   "outputs": [
    {
     "name": "stderr",
     "output_type": "stream",
     "text": [
      "/var/folders/25/5l_h2y610pg48l0kvvcy0zk40000gn/T/ipykernel_35013/3198272363.py:1: SettingWithCopyWarning: \n",
      "A value is trying to be set on a copy of a slice from a DataFrame.\n",
      "Try using .loc[row_indexer,col_indexer] = value instead\n",
      "\n",
      "See the caveats in the documentation: https://pandas.pydata.org/pandas-docs/stable/user_guide/indexing.html#returning-a-view-versus-a-copy\n",
      "  airbnb2['host_response_rate'] = list(map(lambda x: x[:-1], airbnb2['host_response_rate'].values))\n",
      "/var/folders/25/5l_h2y610pg48l0kvvcy0zk40000gn/T/ipykernel_35013/3198272363.py:2: SettingWithCopyWarning: \n",
      "A value is trying to be set on a copy of a slice from a DataFrame.\n",
      "Try using .loc[row_indexer,col_indexer] = value instead\n",
      "\n",
      "See the caveats in the documentation: https://pandas.pydata.org/pandas-docs/stable/user_guide/indexing.html#returning-a-view-versus-a-copy\n",
      "  airbnb2['host_response_rate'] = [float(x) for x in airbnb2['host_response_rate'].values]\n"
     ]
    }
   ],
   "source": [
    "airbnb2['host_response_rate'] = list(map(lambda x: x[:-1], airbnb2['host_response_rate'].values))\n",
    "airbnb2['host_response_rate'] = [float(x) for x in airbnb2['host_response_rate'].values]"
   ]
  },
  {
   "cell_type": "code",
   "execution_count": 47,
   "id": "cbb92318-5fe7-4044-9195-d50ffa650880",
   "metadata": {},
   "outputs": [],
   "source": [
    "airbnb3['host_response_rate'] = list(map(lambda x: x[:-1], airbnb3['host_response_rate'].values))\n",
    "airbnb3['host_response_rate'] = [float(x) for x in airbnb3['host_response_rate'].values]"
   ]
  },
  {
   "cell_type": "code",
   "execution_count": 49,
   "id": "d0b431d7-9ded-4473-b3f5-8d3b9dcd2561",
   "metadata": {},
   "outputs": [
    {
     "data": {
      "text/html": [
       "<div>\n",
       "<style scoped>\n",
       "    .dataframe tbody tr th:only-of-type {\n",
       "        vertical-align: middle;\n",
       "    }\n",
       "\n",
       "    .dataframe tbody tr th {\n",
       "        vertical-align: top;\n",
       "    }\n",
       "\n",
       "    .dataframe thead th {\n",
       "        text-align: right;\n",
       "    }\n",
       "</style>\n",
       "<table border=\"1\" class=\"dataframe\">\n",
       "  <thead>\n",
       "    <tr style=\"text-align: right;\">\n",
       "      <th></th>\n",
       "      <th>host_is_superhost</th>\n",
       "      <th>comments</th>\n",
       "      <th>host_response_time</th>\n",
       "      <th>host_response_rate</th>\n",
       "      <th>review_scores_rating</th>\n",
       "      <th>reviews_per_month</th>\n",
       "    </tr>\n",
       "  </thead>\n",
       "  <tbody>\n",
       "    <tr>\n",
       "      <th>0</th>\n",
       "      <td>0</td>\n",
       "      <td>Sylvia is a hostess who is gracious and helpfu...</td>\n",
       "      <td>within a few hours</td>\n",
       "      <td>100.0</td>\n",
       "      <td>4.83</td>\n",
       "      <td>3.72</td>\n",
       "    </tr>\n",
       "    <tr>\n",
       "      <th>1</th>\n",
       "      <td>1</td>\n",
       "      <td>Elizabeth was really nice and friendly. She he...</td>\n",
       "      <td>within a day</td>\n",
       "      <td>100.0</td>\n",
       "      <td>4.90</td>\n",
       "      <td>1.78</td>\n",
       "    </tr>\n",
       "    <tr>\n",
       "      <th>2</th>\n",
       "      <td>0</td>\n",
       "      <td>Had a wonderful time at this awesome, spacious...</td>\n",
       "      <td>within a few hours</td>\n",
       "      <td>86.0</td>\n",
       "      <td>4.97</td>\n",
       "      <td>0.78</td>\n",
       "    </tr>\n",
       "    <tr>\n",
       "      <th>3</th>\n",
       "      <td>0</td>\n",
       "      <td>Amy and family were wonderful hosts! The house...</td>\n",
       "      <td>within an hour</td>\n",
       "      <td>100.0</td>\n",
       "      <td>4.97</td>\n",
       "      <td>2.12</td>\n",
       "    </tr>\n",
       "    <tr>\n",
       "      <th>4</th>\n",
       "      <td>1</td>\n",
       "      <td>The place was nice, it was like a disco in the...</td>\n",
       "      <td>within a day</td>\n",
       "      <td>100.0</td>\n",
       "      <td>4.53</td>\n",
       "      <td>0.32</td>\n",
       "    </tr>\n",
       "  </tbody>\n",
       "</table>\n",
       "</div>"
      ],
      "text/plain": [
       "   host_is_superhost                                           comments  \\\n",
       "0                  0  Sylvia is a hostess who is gracious and helpfu...   \n",
       "1                  1  Elizabeth was really nice and friendly. She he...   \n",
       "2                  0  Had a wonderful time at this awesome, spacious...   \n",
       "3                  0  Amy and family were wonderful hosts! The house...   \n",
       "4                  1  The place was nice, it was like a disco in the...   \n",
       "\n",
       "   host_response_time  host_response_rate  review_scores_rating  \\\n",
       "0  within a few hours               100.0                  4.83   \n",
       "1        within a day               100.0                  4.90   \n",
       "2  within a few hours                86.0                  4.97   \n",
       "3      within an hour               100.0                  4.97   \n",
       "4        within a day               100.0                  4.53   \n",
       "\n",
       "   reviews_per_month  \n",
       "0               3.72  \n",
       "1               1.78  \n",
       "2               0.78  \n",
       "3               2.12  \n",
       "4               0.32  "
      ]
     },
     "execution_count": 49,
     "metadata": {},
     "output_type": "execute_result"
    }
   ],
   "source": [
    "airbnb2.head()"
   ]
  },
  {
   "cell_type": "code",
   "execution_count": 50,
   "id": "8f87fdb5-bcb3-4d2d-b031-a09f43717110",
   "metadata": {},
   "outputs": [],
   "source": [
    "airbnb2.to_csv('Data/Modelling_Dataframe.csv',index=False)"
   ]
  },
  {
   "cell_type": "code",
   "execution_count": 53,
   "id": "ba56c19b-5f45-44fc-a3e3-7ceb1f50dc36",
   "metadata": {},
   "outputs": [],
   "source": [
    "X = airbnb2['comments']\n",
    "y = airbnb2['host_is_superhost']"
   ]
  },
  {
   "cell_type": "code",
   "execution_count": 54,
   "id": "d7339cc7-5d38-4620-ac83-6ae705117caf",
   "metadata": {},
   "outputs": [],
   "source": [
    "X_train, X_test, y_train, y_test = train_test_split(X,y,test_size=0.30,stratify=y,random_state=420)"
   ]
  },
  {
   "cell_type": "code",
   "execution_count": 55,
   "id": "7ab47b62-b265-46a7-93dd-22e7efa12ae9",
   "metadata": {},
   "outputs": [
    {
     "data": {
      "text/plain": [
       "matrix([[0, 0, 0, ..., 0, 0, 0],\n",
       "        [0, 0, 0, ..., 0, 0, 0],\n",
       "        [0, 0, 0, ..., 0, 0, 0],\n",
       "        ...,\n",
       "        [0, 0, 0, ..., 0, 0, 0],\n",
       "        [0, 0, 0, ..., 0, 0, 0],\n",
       "        [0, 0, 0, ..., 0, 0, 0]])"
      ]
     },
     "execution_count": 55,
     "metadata": {},
     "output_type": "execute_result"
    }
   ],
   "source": [
    "cvec = CountVectorizer()\n",
    "cvec.fit(X_train)\n",
    "X_train=cvec.transform(X_train)\n",
    "X_train.todense()"
   ]
  },
  {
   "cell_type": "code",
   "execution_count": 56,
   "id": "9ed82420-9264-40e4-bba5-a3229523ff53",
   "metadata": {},
   "outputs": [],
   "source": [
    "X_test = cvec.transform(X_test)"
   ]
  },
  {
   "cell_type": "code",
   "execution_count": 57,
   "id": "1b9b51c7-806b-46c2-a088-d18fb1ec189f",
   "metadata": {},
   "outputs": [
    {
     "data": {
      "image/png": "[encoded data removed]",
      "text/plain": [
       "<Figure size 432x288 with 1 Axes>"
      ]
     },
     "metadata": {
      "needs_background": "light"
     },
     "output_type": "display_data"
    }
   ],
   "source": [
    "X_train_df = pd.DataFrame(X_train.todense(), columns=cvec.get_feature_names())\n",
    "X_train_df.sum().sort_values(ascending=False).head(25).plot(kind = 'barh');"
   ]
  },
  {
   "cell_type": "markdown",
   "id": "00228bf7-ecc0-4fce-a15d-a04a3cad44d0",
   "metadata": {},
   "source": [
    "These are the words that occur the most comments. I will look to add many of these words as stop_words because they are so prevalent in comments."
   ]
  },
  {
   "cell_type": "code",
   "execution_count": 58,
   "id": "f4e4843a-31f5-4d02-b71b-2ee77048b82c",
   "metadata": {},
   "outputs": [
    {
     "name": "stdout",
     "output_type": "stream",
     "text": [
      "frozenset({'ltd', 'neither', 'yourselves', 'ourselves', 'mine', 'almost', 'moreover', 'at', 'be', 'mill', 'move', 'still', 'de', 'otherwise', 'get', 'during', 'thus', 'none', 'toward', 'two', 'has', 'less', 'nothing', 'is', 'latterly', 'most', 'where', 'else', 'six', 'twelve', 'her', 'down', 'and', 'enough', 'will', 'eleven', 'hers', 'off', 'formerly', 'both', 'inc', 'much', 'however', 'when', 'herein', 'everything', 'everywhere', 'throughout', 'seeming', 'here', 'wherein', 'whom', 'though', 'yet', 'were', 'whereafter', 'side', 'becoming', 'found', 'am', 'while', 'she', 'across', 'we', 'only', 'around', 'how', 'seemed', 'whose', 'any', 'yours', 'sixty', 'serious', 'same', 'thereafter', 'you', 'nowhere', 'through', 'more', 'own', 'meanwhile', 'twenty', 'noone', 'often', 'top', 'than', 'no', 'do', 'afterwards', 'since', 'via', 'elsewhere', 'hereafter', 'can', 'amoungst', 'itself', 'whoever', 'that', 'anywhere', 'per', 'well', 'until', 'wherever', 'every', 'even', 'anyhow', 'would', 're', 'first', 'whenever', 'in', 'give', 'about', 'go', 'name', 'latter', 'fill', 'hasnt', 'beforehand', 'someone', 'except', 'as', 'now', 'with', 'might', 'became', 'rather', 'thereby', 'himself', 'our', 'many', 'each', 'anyway', 'find', 'already', 'ten', 'couldnt', 'such', 'few', 'interest', 'whereupon', 'whence', 'too', 'not', 'somehow', 'another', 'something', 'back', 'was', 'becomes', 'thick', 'upon', 'ever', 'empty', 'therefore', 'towards', 'from', 'full', 'although', 'cant', 'themselves', 'four', 'so', 'his', 'before', 'within', 'take', 'three', 'i', 'him', 'among', 'me', 'all', 'their', 'sincere', 'by', 'again', 'hence', 'nor', 'very', 'front', 'on', 'whether', 'they', 'above', 'anything', 'cannot', 'made', 'put', 'of', 'beyond', 'therein', 'this', 'keep', 'sometime', 'thru', 'eg', 'some', 'least', 'out', 'along', 'it', 'please', 'con', 'several', 'bill', 'forty', 'an', 'un', 'whereas', 'hereupon', 'nine', 'have', 'others', 'amongst', 'yourself', 'which', 'also', 'nevertheless', 'perhaps', 'below', 'co', 'had', 'he', 'are', 'cry', 'against', 'see', 'whole', 'five', 'next', 'eight', 'into', 'alone', 'somewhere', 'part', 'my', 'whereby', 'mostly', 'between', 'myself', 'fifty', 'these', 'system', 'then', 'if', 'the', 'those', 'could', 'thereupon', 'amount', 'under', 'never', 'etc', 'either', 'hereby', 'onto', 'over', 'should', 'what', 'anyone', 'thence', 'call', 'up', 'ours', 'herself', 'always', 'who', 'to', 'without', 'done', 'sometimes', 'been', 'one', 'behind', 'us', 'former', 'why', 'further', 'besides', 'fifteen', 'bottom', 'or', 'its', 'due', 'must', 'third', 'detail', 'after', 'a', 'seems', 'become', 'for', 'last', 'describe', 'everyone', 'fire', 'may', 'show', 'ie', 'other', 'whither', 'namely', 'them', 'hundred', 'there', 'being', 'because', 'but', 'seem', 'indeed', 'nobody', 'your', 'together', 'beside', 'thin', 'whatever', 'once'})\n"
     ]
    }
   ],
   "source": [
    "print(CountVectorizer(stop_words = 'english').get_stop_words())\n",
    "k = list(CountVectorizer(stop_words = 'english').get_stop_words())"
   ]
  },
  {
   "cell_type": "markdown",
   "id": "9da63c72-1b8d-41ff-9901-121672c263d4",
   "metadata": {},
   "source": [
    "These are sklearn's stopwords, This will be the list of words I choose from when creating parameters."
   ]
  },
  {
   "cell_type": "code",
   "execution_count": 61,
   "id": "dd3b959f-448b-4df6-b725-4581032067f5",
   "metadata": {},
   "outputs": [],
   "source": [
    "def histogram(column):\n",
    "    plt.figure(figsize=(12,6))\n",
    "    ax = plt.hist(x = airbnb2[column]);\n",
    "    plt.ylabel(\"# of Instances\")\n",
    "    plt.xlabel(column)\n",
    "    plt.show();"
   ]
  },
  {
   "cell_type": "code",
   "execution_count": 62,
   "id": "f0e162ac-3260-4103-aa7d-b16db7da2090",
   "metadata": {},
   "outputs": [
    {
     "data": {
      "image/png": "[encoded data removed]",
      "text/plain": [
       "<Figure size 864x432 with 1 Axes>"
      ]
     },
     "metadata": {
      "needs_background": "light"
     },
     "output_type": "display_data"
    }
   ],
   "source": [
    "histogram('host_response_rate')"
   ]
  },
  {
   "cell_type": "markdown",
   "id": "e4378f53-a292-40d3-a89d-85000100d2b4",
   "metadata": {},
   "source": [
    "Skewed left with most response rate being between 80% and 100%."
   ]
  },
  {
   "cell_type": "code",
   "execution_count": 63,
   "id": "d5aced0f-357b-4254-9f34-18f785df121e",
   "metadata": {},
   "outputs": [
    {
     "data": {
      "image/png": "[encoded data removed]",
      "text/plain": [
       "<Figure size 864x432 with 1 Axes>"
      ]
     },
     "metadata": {
      "needs_background": "light"
     },
     "output_type": "display_data"
    }
   ],
   "source": [
    "histogram('review_scores_rating')"
   ]
  },
  {
   "cell_type": "markdown",
   "id": "5e00f1e3-8c96-4b4a-be45-70f54852c9f3",
   "metadata": {},
   "source": [
    "Skewed left with most review scores being between 4 and 5."
   ]
  },
  {
   "cell_type": "code",
   "execution_count": 64,
   "id": "8f6f2677-f46c-40b9-adc2-d74c5de520cb",
   "metadata": {},
   "outputs": [
    {
     "data": {
      "image/png": "[encoded data removed]",
      "text/plain": [
       "<Figure size 864x432 with 1 Axes>"
      ]
     },
     "metadata": {
      "needs_background": "light"
     },
     "output_type": "display_data"
    }
   ],
   "source": [
    "histogram('reviews_per_month')"
   ]
  },
  {
   "cell_type": "markdown",
   "id": "60514cda-d47e-4a12-955b-5e95bbc7553d",
   "metadata": {},
   "source": [
    "Skewed right with # of reviews per month being between 0 and 7."
   ]
  },
  {
   "cell_type": "code",
   "execution_count": null,
   "id": "0df82377-f046-45b8-a655-4254000355a2",
   "metadata": {},
   "outputs": [],
   "source": []
  },
  {
   "cell_type": "code",
   "execution_count": null,
   "id": "dabf57b8-6d8b-4880-9e30-ae86145143ac",
   "metadata": {},
   "outputs": [],
   "source": []
  },
  {
   "cell_type": "code",
   "execution_count": null,
   "id": "a46ccfb6-50e4-4fee-8370-78183eb04d01",
   "metadata": {},
   "outputs": [],
   "source": []
  }
 ],
 "metadata": {
  "kernelspec": {
   "display_name": "Python [conda env:dsi]",
   "language": "python",
   "name": "conda-env-dsi-py"
  },
  "language_info": {
   "codemirror_mode": {
    "name": "ipython",
    "version": 3
   },
   "file_extension": ".py",
   "mimetype": "text/x-python",
   "name": "python",
   "nbconvert_exporter": "python",
   "pygments_lexer": "ipython3",
   "version": "3.9.7"
  }
 },
 "nbformat": 4,
 "nbformat_minor": 5
}
