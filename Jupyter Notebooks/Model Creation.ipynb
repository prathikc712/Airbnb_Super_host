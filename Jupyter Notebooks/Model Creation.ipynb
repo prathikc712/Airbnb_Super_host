{
 "cells": [
  {
   "cell_type": "code",
   "execution_count": 207,
   "id": "a72c4b15-ee34-4a32-9d41-4d36583caedc",
   "metadata": {},
   "outputs": [],
   "source": [
    "import pandas as pd\n",
    "import matplotlib.pyplot as plt\n",
    "from sklearn.model_selection import train_test_split, GridSearchCV\n",
    "from sklearn.pipeline import Pipeline\n",
    "from sklearn.naive_bayes import MultinomialNB\n",
    "from sklearn.linear_model import LogisticRegression\n",
    "from sklearn.metrics import confusion_matrix, plot_confusion_matrix\n",
    "\n",
    "from sklearn.feature_extraction.text import CountVectorizer, TfidfVectorizer\n",
    "import seaborn as sns\n",
    "import matplotlib.pyplot as plt\n",
    "from sklearn.compose import ColumnTransformer\n",
    "from sklearn.preprocessing import PolynomialFeatures, StandardScaler\n",
    "from sklearn.neighbors import KNeighborsClassifier, KNeighborsRegressor\n",
    "from sklearn.tree import DecisionTreeRegressor, DecisionTreeClassifier\n",
    "from sklearn.ensemble import BaggingRegressor, BaggingClassifier, RandomForestRegressor, RandomForestClassifier, AdaBoostRegressor, AdaBoostClassifier,StackingClassifier"
   ]
  },
  {
   "cell_type": "code",
   "execution_count": 155,
   "id": "87cfcc54-b319-4501-94f2-1dff4b89c7f0",
   "metadata": {},
   "outputs": [],
   "source": [
    "airbnb = pd.read_csv('Data/Modelling_Dataframe.csv')"
   ]
  },
  {
   "cell_type": "code",
   "execution_count": 156,
   "id": "8b590b61-2278-4841-830a-3ebc565d1c06",
   "metadata": {},
   "outputs": [
    {
     "data": {
      "text/html": [
       "<div>\n",
       "<style scoped>\n",
       "    .dataframe tbody tr th:only-of-type {\n",
       "        vertical-align: middle;\n",
       "    }\n",
       "\n",
       "    .dataframe tbody tr th {\n",
       "        vertical-align: top;\n",
       "    }\n",
       "\n",
       "    .dataframe thead th {\n",
       "        text-align: right;\n",
       "    }\n",
       "</style>\n",
       "<table border=\"1\" class=\"dataframe\">\n",
       "  <thead>\n",
       "    <tr style=\"text-align: right;\">\n",
       "      <th></th>\n",
       "      <th>host_is_superhost</th>\n",
       "      <th>comments</th>\n",
       "      <th>host_response_time</th>\n",
       "      <th>host_response_rate</th>\n",
       "      <th>review_scores_rating</th>\n",
       "      <th>reviews_per_month</th>\n",
       "    </tr>\n",
       "  </thead>\n",
       "  <tbody>\n",
       "    <tr>\n",
       "      <th>0</th>\n",
       "      <td>0</td>\n",
       "      <td>Sylvia is a hostess who is gracious and helpfu...</td>\n",
       "      <td>within a few hours</td>\n",
       "      <td>100.0</td>\n",
       "      <td>4.83</td>\n",
       "      <td>3.72</td>\n",
       "    </tr>\n",
       "    <tr>\n",
       "      <th>1</th>\n",
       "      <td>1</td>\n",
       "      <td>Elizabeth was really nice and friendly. She he...</td>\n",
       "      <td>within a day</td>\n",
       "      <td>100.0</td>\n",
       "      <td>4.90</td>\n",
       "      <td>1.78</td>\n",
       "    </tr>\n",
       "    <tr>\n",
       "      <th>2</th>\n",
       "      <td>0</td>\n",
       "      <td>Had a wonderful time at this awesome, spacious...</td>\n",
       "      <td>within a few hours</td>\n",
       "      <td>86.0</td>\n",
       "      <td>4.97</td>\n",
       "      <td>0.78</td>\n",
       "    </tr>\n",
       "    <tr>\n",
       "      <th>3</th>\n",
       "      <td>0</td>\n",
       "      <td>Amy and family were wonderful hosts! The house...</td>\n",
       "      <td>within an hour</td>\n",
       "      <td>100.0</td>\n",
       "      <td>4.97</td>\n",
       "      <td>2.12</td>\n",
       "    </tr>\n",
       "    <tr>\n",
       "      <th>4</th>\n",
       "      <td>1</td>\n",
       "      <td>The place was nice, it was like a disco in the...</td>\n",
       "      <td>within a day</td>\n",
       "      <td>100.0</td>\n",
       "      <td>4.53</td>\n",
       "      <td>0.32</td>\n",
       "    </tr>\n",
       "  </tbody>\n",
       "</table>\n",
       "</div>"
      ],
      "text/plain": [
       "   host_is_superhost                                           comments  \\\n",
       "0                  0  Sylvia is a hostess who is gracious and helpfu...   \n",
       "1                  1  Elizabeth was really nice and friendly. She he...   \n",
       "2                  0  Had a wonderful time at this awesome, spacious...   \n",
       "3                  0  Amy and family were wonderful hosts! The house...   \n",
       "4                  1  The place was nice, it was like a disco in the...   \n",
       "\n",
       "   host_response_time  host_response_rate  review_scores_rating  \\\n",
       "0  within a few hours               100.0                  4.83   \n",
       "1        within a day               100.0                  4.90   \n",
       "2  within a few hours                86.0                  4.97   \n",
       "3      within an hour               100.0                  4.97   \n",
       "4        within a day               100.0                  4.53   \n",
       "\n",
       "   reviews_per_month  \n",
       "0               3.72  \n",
       "1               1.78  \n",
       "2               0.78  \n",
       "3               2.12  \n",
       "4               0.32  "
      ]
     },
     "execution_count": 156,
     "metadata": {},
     "output_type": "execute_result"
    }
   ],
   "source": [
    "airbnb.head()"
   ]
  },
  {
   "cell_type": "code",
   "execution_count": 157,
   "id": "d8446587-b2d5-4e9a-b541-9255653e9681",
   "metadata": {},
   "outputs": [],
   "source": [
    "X = (airbnb.drop(columns = ['host_is_superhost']))\n",
    "y = (airbnb['host_is_superhost'])"
   ]
  },
  {
   "cell_type": "code",
   "execution_count": 158,
   "id": "b6f9a700-688e-4cf9-8f3f-a2edc696aa6f",
   "metadata": {},
   "outputs": [
    {
     "data": {
      "text/plain": [
       "0    0.514055\n",
       "1    0.485945\n",
       "Name: host_is_superhost, dtype: float64"
      ]
     },
     "execution_count": 158,
     "metadata": {},
     "output_type": "execute_result"
    }
   ],
   "source": [
    "y.value_counts(normalize = True)"
   ]
  },
  {
   "cell_type": "code",
   "execution_count": 159,
   "id": "65cbea6d-c497-4f46-8130-6c47ad45a00f",
   "metadata": {},
   "outputs": [],
   "source": [
    "X_train, X_test, y_train, y_test = train_test_split(X,y,test_size=0.30,stratify=y,random_state=420)"
   ]
  },
  {
   "cell_type": "code",
   "execution_count": 184,
   "id": "7cfdcd1f-86a5-47b2-9a57-31c1c56ce2d6",
   "metadata": {},
   "outputs": [],
   "source": [
    "X_1 = (airbnb.drop(columns = ['host_is_superhost']))\n",
    "X_1 = pd.get_dummies(columns = ['host_response_time'], drop_first = True, data = X_1)\n",
    "y = (airbnb['host_is_superhost'])"
   ]
  },
  {
   "cell_type": "code",
   "execution_count": 185,
   "id": "b357ae3a-e331-40d2-b5ce-82357f21d160",
   "metadata": {},
   "outputs": [],
   "source": [
    "X_1train, X_1test, y_train, y_test = train_test_split(X_1,y,test_size=0.30,stratify=y,random_state=420)"
   ]
  },
  {
   "cell_type": "code",
   "execution_count": 186,
   "id": "e6aba224-2813-472b-a14e-d0b90514b19d",
   "metadata": {},
   "outputs": [
    {
     "name": "stderr",
     "output_type": "stream",
     "text": [
      "/Users/prathikchukkapalli/opt/miniconda3/envs/dsi/lib/python3.9/site-packages/sklearn/linear_model/_logistic.py:763: ConvergenceWarning: lbfgs failed to converge (status=1):\n",
      "STOP: TOTAL NO. of ITERATIONS REACHED LIMIT.\n",
      "\n",
      "Increase the number of iterations (max_iter) or scale the data as shown in:\n",
      "    https://scikit-learn.org/stable/modules/preprocessing.html\n",
      "Please also refer to the documentation for alternative solver options:\n",
      "    https://scikit-learn.org/stable/modules/linear_model.html#logistic-regression\n",
      "  n_iter_i = _check_optimize_result(\n"
     ]
    },
    {
     "data": {
      "text/plain": [
       "0.8267645736550278"
      ]
     },
     "execution_count": 186,
     "metadata": {},
     "output_type": "execute_result"
    }
   ],
   "source": [
    "pipe_log = Pipeline([\n",
    "        ('cs', ColumnTransformer([\n",
    "    ('text_vect', CountVectorizer(), 'comments')],\n",
    "    remainder ='passthrough',\n",
    ")),\n",
    "        ('log', LogisticRegression())\n",
    "    ])\n",
    "\n",
    "pipe_log.fit(X_1train,y_train)\n",
    "pipe_log.score(X_1train,y_train)"
   ]
  },
  {
   "cell_type": "code",
   "execution_count": 187,
   "id": "9e11be77-5bf5-41bc-917d-4f078d35d833",
   "metadata": {},
   "outputs": [
    {
     "data": {
      "text/plain": [
       "0.7256204124432016"
      ]
     },
     "execution_count": 187,
     "metadata": {},
     "output_type": "execute_result"
    }
   ],
   "source": [
    "pipe_log.score(X_1test,y_test)"
   ]
  },
  {
   "cell_type": "markdown",
   "id": "cdec7085-d49a-4b93-8b5e-931c61a58a3b",
   "metadata": {},
   "source": [
    "Pipeline that does count vectorizer on comments, and then does logistic regression. This model is over fit. The test score is higher than the baseline score."
   ]
  },
  {
   "cell_type": "code",
   "execution_count": 200,
   "id": "5c6a4196-22da-418a-b345-f069e28bfc2b",
   "metadata": {},
   "outputs": [
    {
     "data": {
      "text/plain": [
       "0.7885508766671662"
      ]
     },
     "execution_count": 200,
     "metadata": {},
     "output_type": "execute_result"
    }
   ],
   "source": [
    "pipe_knn = Pipeline([\n",
    "        ('cs', ColumnTransformer([\n",
    "    ('text_vect', CountVectorizer(), 'comments')],\n",
    "    remainder ='passthrough',\n",
    ")),\n",
    "        ('knn', KNeighborsClassifier())\n",
    "    ])\n",
    "\n",
    "pipe_knn.fit(X_1train,y_train)\n",
    "pipe_knn.score(X_1train,y_train)"
   ]
  },
  {
   "cell_type": "code",
   "execution_count": 201,
   "id": "9c0203c4-db6f-4e48-b326-8867ab8b62f0",
   "metadata": {},
   "outputs": [
    {
     "data": {
      "text/plain": [
       "0.6812303390422929"
      ]
     },
     "execution_count": 201,
     "metadata": {},
     "output_type": "execute_result"
    }
   ],
   "source": [
    "pipe_knn.score(X_1test,y_test)"
   ]
  },
  {
   "cell_type": "markdown",
   "id": "31d9a833-832c-4f93-b089-aa391746c45a",
   "metadata": {},
   "source": [
    "The model is overfit, but has a lower training and testing score than the Logistic pipeline."
   ]
  },
  {
   "cell_type": "code",
   "execution_count": 192,
   "id": "33d981e6-8f9a-4ee9-9bd0-3910c8f19cea",
   "metadata": {},
   "outputs": [
    {
     "data": {
      "text/plain": [
       "1.0"
      ]
     },
     "execution_count": 192,
     "metadata": {},
     "output_type": "execute_result"
    }
   ],
   "source": [
    "pipe_dt = Pipeline([\n",
    "        ('cs', ColumnTransformer([\n",
    "    ('text_vect', CountVectorizer(), 'comments')],\n",
    "    remainder ='passthrough',\n",
    ")),\n",
    "        ('dt', DecisionTreeClassifier())\n",
    "    ])\n",
    "\n",
    "pipe_dt.fit(X_1train,y_train)\n",
    "pipe_dt.score(X_1train,y_train)"
   ]
  },
  {
   "cell_type": "code",
   "execution_count": 193,
   "id": "9e15e6c2-80a6-4538-94d2-f109fc6ac695",
   "metadata": {},
   "outputs": [
    {
     "data": {
      "text/plain": [
       "0.6801817546312479"
      ]
     },
     "execution_count": 193,
     "metadata": {},
     "output_type": "execute_result"
    }
   ],
   "source": [
    "pipe_dt.score(X_1test,y_test)"
   ]
  },
  {
   "cell_type": "markdown",
   "id": "2a0c7f5d-c11c-4344-984a-0481431fd20a",
   "metadata": {},
   "source": [
    "This model extremely overfit and has a low test score."
   ]
  },
  {
   "cell_type": "code",
   "execution_count": 194,
   "id": "79169623-aaf9-4a63-8bd7-3b8424c4b6fd",
   "metadata": {},
   "outputs": [
    {
     "data": {
      "text/plain": [
       "0.9826165143114042"
      ]
     },
     "execution_count": 194,
     "metadata": {},
     "output_type": "execute_result"
    }
   ],
   "source": [
    "pipe_bag = Pipeline([\n",
    "        ('cs', ColumnTransformer([\n",
    "    ('text_vect', CountVectorizer(), 'comments')],\n",
    "    remainder ='passthrough',\n",
    ")),\n",
    "        ('bag', BaggingClassifier())\n",
    "    ])\n",
    "\n",
    "pipe_bag.fit(X_1train,y_train)\n",
    "pipe_bag.score(X_1train,y_train)"
   ]
  },
  {
   "cell_type": "code",
   "execution_count": 195,
   "id": "26a997a4-3f11-4aa4-9883-7af9751da34b",
   "metadata": {},
   "outputs": [
    {
     "data": {
      "text/plain": [
       "0.7256204124432016"
      ]
     },
     "execution_count": 195,
     "metadata": {},
     "output_type": "execute_result"
    }
   ],
   "source": [
    "pipe_bag.score(X_1test,y_test)"
   ]
  },
  {
   "cell_type": "markdown",
   "id": "9f665f4b-4653-48d9-b831-8e81ec7f21f7",
   "metadata": {},
   "source": [
    "This model is also extremely overfit, but has the same test score as logistic regression pipeline."
   ]
  },
  {
   "cell_type": "code",
   "execution_count": 196,
   "id": "e88501a9-94c3-475d-91b2-b2f67d2ffd12",
   "metadata": {},
   "outputs": [
    {
     "data": {
      "text/plain": [
       "1.0"
      ]
     },
     "execution_count": 196,
     "metadata": {},
     "output_type": "execute_result"
    }
   ],
   "source": [
    "pipe_rf = Pipeline([\n",
    "        ('cs', ColumnTransformer([\n",
    "    ('text_vect', CountVectorizer(), 'comments')],\n",
    "    remainder ='passthrough',\n",
    ")),\n",
    "        ('rf', RandomForestClassifier())\n",
    "    ])\n",
    "\n",
    "pipe_rf.fit(X_1train,y_train)\n",
    "pipe_rf.score(X_1train,y_train)"
   ]
  },
  {
   "cell_type": "code",
   "execution_count": 197,
   "id": "d6f37a82-7cac-4808-8e23-c83a502ba91a",
   "metadata": {},
   "outputs": [
    {
     "data": {
      "text/plain": [
       "0.7154840964697659"
      ]
     },
     "execution_count": 197,
     "metadata": {},
     "output_type": "execute_result"
    }
   ],
   "source": [
    "pipe_rf.score(X_1test,y_test)"
   ]
  },
  {
   "cell_type": "markdown",
   "id": "d1709988-44a9-45a4-aa2b-13a63716d009",
   "metadata": {},
   "source": [
    "This model is very overfit and has a testing score lower than the Logistic Regression pipeline model."
   ]
  },
  {
   "cell_type": "code",
   "execution_count": 198,
   "id": "85d1a7c0-cfe1-49fc-b091-150c44f4a0a8",
   "metadata": {},
   "outputs": [
    {
     "data": {
      "text/plain": [
       "0.7507867525850442"
      ]
     },
     "execution_count": 198,
     "metadata": {},
     "output_type": "execute_result"
    }
   ],
   "source": [
    "pipe_ada = Pipeline([\n",
    "        ('cs', ColumnTransformer([\n",
    "    ('text_vect', CountVectorizer(), 'comments')],\n",
    "    remainder ='passthrough',\n",
    ")),\n",
    "        ('ada', AdaBoostClassifier())\n",
    "    ])\n",
    "\n",
    "pipe_ada.fit(X_1train,y_train)\n",
    "pipe_ada.score(X_1train,y_train)"
   ]
  },
  {
   "cell_type": "code",
   "execution_count": 199,
   "id": "5a425ad7-bc4e-4b64-8e8d-dda78ac10a3a",
   "metadata": {},
   "outputs": [
    {
     "data": {
      "text/plain": [
       "0.7343586158685774"
      ]
     },
     "execution_count": 199,
     "metadata": {},
     "output_type": "execute_result"
    }
   ],
   "source": [
    "pipe_ada.score(X_1test,y_test)"
   ]
  },
  {
   "cell_type": "markdown",
   "id": "0090896e-ec01-4557-8a5e-3141bce6c4ef",
   "metadata": {},
   "source": [
    "This model has the highest testing score and is the least overfit."
   ]
  },
  {
   "cell_type": "code",
   "execution_count": 217,
   "id": "b1593ee3-5d15-4141-b740-6a1813ae8e32",
   "metadata": {},
   "outputs": [],
   "source": [
    "level2_models = [\n",
    "    ('log_pipe', Pipeline([\n",
    "          ('cs', ColumnTransformer([\n",
    "    ('text_vect', CountVectorizer(), 'comments')],\n",
    "    remainder ='passthrough',\n",
    ")),\n",
    "    \n",
    "        ('log', LogisticRegression())\n",
    "    ])\n",
    "]\n",
    "\n",
    "stack1 = StackingClassifier(estimators=level2_models,\n",
    "                         final_estimator=AdaBoostClassifier())\n"
   ]
  },
  {
   "cell_type": "code",
   "execution_count": 213,
   "id": "81c89201-77de-4097-b4b1-94cb5ce1e48d",
   "metadata": {},
   "outputs": [
    {
     "name": "stderr",
     "output_type": "stream",
     "text": [
      "/Users/prathikchukkapalli/opt/miniconda3/envs/dsi/lib/python3.9/site-packages/sklearn/linear_model/_logistic.py:763: ConvergenceWarning: lbfgs failed to converge (status=1):\n",
      "STOP: TOTAL NO. of ITERATIONS REACHED LIMIT.\n",
      "\n",
      "Increase the number of iterations (max_iter) or scale the data as shown in:\n",
      "    https://scikit-learn.org/stable/modules/preprocessing.html\n",
      "Please also refer to the documentation for alternative solver options:\n",
      "    https://scikit-learn.org/stable/modules/linear_model.html#logistic-regression\n",
      "  n_iter_i = _check_optimize_result(\n",
      "/Users/prathikchukkapalli/opt/miniconda3/envs/dsi/lib/python3.9/site-packages/sklearn/linear_model/_logistic.py:763: ConvergenceWarning: lbfgs failed to converge (status=1):\n",
      "STOP: TOTAL NO. of ITERATIONS REACHED LIMIT.\n",
      "\n",
      "Increase the number of iterations (max_iter) or scale the data as shown in:\n",
      "    https://scikit-learn.org/stable/modules/preprocessing.html\n",
      "Please also refer to the documentation for alternative solver options:\n",
      "    https://scikit-learn.org/stable/modules/linear_model.html#logistic-regression\n",
      "  n_iter_i = _check_optimize_result(\n",
      "/Users/prathikchukkapalli/opt/miniconda3/envs/dsi/lib/python3.9/site-packages/sklearn/linear_model/_logistic.py:763: ConvergenceWarning: lbfgs failed to converge (status=1):\n",
      "STOP: TOTAL NO. of ITERATIONS REACHED LIMIT.\n",
      "\n",
      "Increase the number of iterations (max_iter) or scale the data as shown in:\n",
      "    https://scikit-learn.org/stable/modules/preprocessing.html\n",
      "Please also refer to the documentation for alternative solver options:\n",
      "    https://scikit-learn.org/stable/modules/linear_model.html#logistic-regression\n",
      "  n_iter_i = _check_optimize_result(\n",
      "/Users/prathikchukkapalli/opt/miniconda3/envs/dsi/lib/python3.9/site-packages/sklearn/linear_model/_logistic.py:763: ConvergenceWarning: lbfgs failed to converge (status=1):\n",
      "STOP: TOTAL NO. of ITERATIONS REACHED LIMIT.\n",
      "\n",
      "Increase the number of iterations (max_iter) or scale the data as shown in:\n",
      "    https://scikit-learn.org/stable/modules/preprocessing.html\n",
      "Please also refer to the documentation for alternative solver options:\n",
      "    https://scikit-learn.org/stable/modules/linear_model.html#logistic-regression\n",
      "  n_iter_i = _check_optimize_result(\n",
      "/Users/prathikchukkapalli/opt/miniconda3/envs/dsi/lib/python3.9/site-packages/sklearn/linear_model/_logistic.py:763: ConvergenceWarning: lbfgs failed to converge (status=1):\n",
      "STOP: TOTAL NO. of ITERATIONS REACHED LIMIT.\n",
      "\n",
      "Increase the number of iterations (max_iter) or scale the data as shown in:\n",
      "    https://scikit-learn.org/stable/modules/preprocessing.html\n",
      "Please also refer to the documentation for alternative solver options:\n",
      "    https://scikit-learn.org/stable/modules/linear_model.html#logistic-regression\n",
      "  n_iter_i = _check_optimize_result(\n",
      "/Users/prathikchukkapalli/opt/miniconda3/envs/dsi/lib/python3.9/site-packages/sklearn/linear_model/_logistic.py:763: ConvergenceWarning: lbfgs failed to converge (status=1):\n",
      "STOP: TOTAL NO. of ITERATIONS REACHED LIMIT.\n",
      "\n",
      "Increase the number of iterations (max_iter) or scale the data as shown in:\n",
      "    https://scikit-learn.org/stable/modules/preprocessing.html\n",
      "Please also refer to the documentation for alternative solver options:\n",
      "    https://scikit-learn.org/stable/modules/linear_model.html#logistic-regression\n",
      "  n_iter_i = _check_optimize_result(\n"
     ]
    },
    {
     "data": {
      "text/plain": [
       "0.8197212647984414"
      ]
     },
     "execution_count": 213,
     "metadata": {},
     "output_type": "execute_result"
    }
   ],
   "source": [
    "stack1.fit(X_1train,y_train)\n",
    "stack1.score(X_1train, y_train)"
   ]
  },
  {
   "cell_type": "code",
   "execution_count": 214,
   "id": "582b25d6-b482-4226-8f52-b0338fc64b97",
   "metadata": {},
   "outputs": [
    {
     "data": {
      "text/plain": [
       "0.7221251310730514"
      ]
     },
     "execution_count": 214,
     "metadata": {},
     "output_type": "execute_result"
    }
   ],
   "source": [
    "stack1.score(X_1test, y_test)"
   ]
  },
  {
   "cell_type": "markdown",
   "id": "85b4f86f-3cab-45a1-a7ed-72436f21564f",
   "metadata": {},
   "source": [
    "This stack model is overfit and has a lower test score than the basic adaboost classifier pipeline."
   ]
  },
  {
   "cell_type": "markdown",
   "id": "c30ba4ae-9519-44f5-8437-3ec1fbfa2a50",
   "metadata": {},
   "source": [
    "Will now try the logistic regression pipeline with params to see if it increases the test score."
   ]
  },
  {
   "cell_type": "code",
   "execution_count": null,
   "id": "364f7ecd-9a63-44f6-be30-16161ac9f2ae",
   "metadata": {},
   "outputs": [],
   "source": [
    "pipe_log1 = Pipeline([\n",
    "        ('cs', ColumnTransformer([\n",
    "    ('text_vect', CountVectorizer(), 'comments')],\n",
    "    remainder ='passthrough',\n",
    ")),\n",
    "    ('ss', StandardScaler(), ['reviews_per','host_response_rate','review_scores_rating'])\n",
    "        ('log', LogisticRegression())\n",
    "    ])\n"
   ]
  },
  {
   "cell_type": "code",
   "execution_count": 262,
   "id": "2ebeea64-3bd9-4d3b-8c16-d10bcc5b8e80",
   "metadata": {},
   "outputs": [],
   "source": [
    "params = {\n",
    "    'log__max_iter' : [3_500,4_000]\n",
    "}"
   ]
  },
  {
   "cell_type": "code",
   "execution_count": 263,
   "id": "bcc4e1d0-3593-48e5-9bfc-548946ad7117",
   "metadata": {},
   "outputs": [],
   "source": [
    "gs = GridSearchCV(estimator = pipe_log1, param_grid = params, cv = 5)"
   ]
  },
  {
   "cell_type": "code",
   "execution_count": 264,
   "id": "ff685a1e-8613-4f86-856c-428f6cfe88fd",
   "metadata": {},
   "outputs": [
    {
     "name": "stderr",
     "output_type": "stream",
     "text": [
      "/Users/prathikchukkapalli/opt/miniconda3/envs/dsi/lib/python3.9/site-packages/sklearn/linear_model/_logistic.py:763: ConvergenceWarning: lbfgs failed to converge (status=1):\n",
      "STOP: TOTAL NO. of ITERATIONS REACHED LIMIT.\n",
      "\n",
      "Increase the number of iterations (max_iter) or scale the data as shown in:\n",
      "    https://scikit-learn.org/stable/modules/preprocessing.html\n",
      "Please also refer to the documentation for alternative solver options:\n",
      "    https://scikit-learn.org/stable/modules/linear_model.html#logistic-regression\n",
      "  n_iter_i = _check_optimize_result(\n",
      "/Users/prathikchukkapalli/opt/miniconda3/envs/dsi/lib/python3.9/site-packages/sklearn/linear_model/_logistic.py:763: ConvergenceWarning: lbfgs failed to converge (status=1):\n",
      "STOP: TOTAL NO. of ITERATIONS REACHED LIMIT.\n",
      "\n",
      "Increase the number of iterations (max_iter) or scale the data as shown in:\n",
      "    https://scikit-learn.org/stable/modules/preprocessing.html\n",
      "Please also refer to the documentation for alternative solver options:\n",
      "    https://scikit-learn.org/stable/modules/linear_model.html#logistic-regression\n",
      "  n_iter_i = _check_optimize_result(\n",
      "/Users/prathikchukkapalli/opt/miniconda3/envs/dsi/lib/python3.9/site-packages/sklearn/linear_model/_logistic.py:763: ConvergenceWarning: lbfgs failed to converge (status=1):\n",
      "STOP: TOTAL NO. of ITERATIONS REACHED LIMIT.\n",
      "\n",
      "Increase the number of iterations (max_iter) or scale the data as shown in:\n",
      "    https://scikit-learn.org/stable/modules/preprocessing.html\n",
      "Please also refer to the documentation for alternative solver options:\n",
      "    https://scikit-learn.org/stable/modules/linear_model.html#logistic-regression\n",
      "  n_iter_i = _check_optimize_result(\n",
      "/Users/prathikchukkapalli/opt/miniconda3/envs/dsi/lib/python3.9/site-packages/sklearn/linear_model/_logistic.py:763: ConvergenceWarning: lbfgs failed to converge (status=1):\n",
      "STOP: TOTAL NO. of ITERATIONS REACHED LIMIT.\n",
      "\n",
      "Increase the number of iterations (max_iter) or scale the data as shown in:\n",
      "    https://scikit-learn.org/stable/modules/preprocessing.html\n",
      "Please also refer to the documentation for alternative solver options:\n",
      "    https://scikit-learn.org/stable/modules/linear_model.html#logistic-regression\n",
      "  n_iter_i = _check_optimize_result(\n",
      "/Users/prathikchukkapalli/opt/miniconda3/envs/dsi/lib/python3.9/site-packages/sklearn/linear_model/_logistic.py:763: ConvergenceWarning: lbfgs failed to converge (status=1):\n",
      "STOP: TOTAL NO. of ITERATIONS REACHED LIMIT.\n",
      "\n",
      "Increase the number of iterations (max_iter) or scale the data as shown in:\n",
      "    https://scikit-learn.org/stable/modules/preprocessing.html\n",
      "Please also refer to the documentation for alternative solver options:\n",
      "    https://scikit-learn.org/stable/modules/linear_model.html#logistic-regression\n",
      "  n_iter_i = _check_optimize_result(\n",
      "/Users/prathikchukkapalli/opt/miniconda3/envs/dsi/lib/python3.9/site-packages/sklearn/linear_model/_logistic.py:763: ConvergenceWarning: lbfgs failed to converge (status=1):\n",
      "STOP: TOTAL NO. of ITERATIONS REACHED LIMIT.\n",
      "\n",
      "Increase the number of iterations (max_iter) or scale the data as shown in:\n",
      "    https://scikit-learn.org/stable/modules/preprocessing.html\n",
      "Please also refer to the documentation for alternative solver options:\n",
      "    https://scikit-learn.org/stable/modules/linear_model.html#logistic-regression\n",
      "  n_iter_i = _check_optimize_result(\n",
      "/Users/prathikchukkapalli/opt/miniconda3/envs/dsi/lib/python3.9/site-packages/sklearn/linear_model/_logistic.py:763: ConvergenceWarning: lbfgs failed to converge (status=1):\n",
      "STOP: TOTAL NO. of ITERATIONS REACHED LIMIT.\n",
      "\n",
      "Increase the number of iterations (max_iter) or scale the data as shown in:\n",
      "    https://scikit-learn.org/stable/modules/preprocessing.html\n",
      "Please also refer to the documentation for alternative solver options:\n",
      "    https://scikit-learn.org/stable/modules/linear_model.html#logistic-regression\n",
      "  n_iter_i = _check_optimize_result(\n",
      "/Users/prathikchukkapalli/opt/miniconda3/envs/dsi/lib/python3.9/site-packages/sklearn/linear_model/_logistic.py:763: ConvergenceWarning: lbfgs failed to converge (status=1):\n",
      "STOP: TOTAL NO. of ITERATIONS REACHED LIMIT.\n",
      "\n",
      "Increase the number of iterations (max_iter) or scale the data as shown in:\n",
      "    https://scikit-learn.org/stable/modules/preprocessing.html\n",
      "Please also refer to the documentation for alternative solver options:\n",
      "    https://scikit-learn.org/stable/modules/linear_model.html#logistic-regression\n",
      "  n_iter_i = _check_optimize_result(\n",
      "/Users/prathikchukkapalli/opt/miniconda3/envs/dsi/lib/python3.9/site-packages/sklearn/linear_model/_logistic.py:763: ConvergenceWarning: lbfgs failed to converge (status=1):\n",
      "STOP: TOTAL NO. of ITERATIONS REACHED LIMIT.\n",
      "\n",
      "Increase the number of iterations (max_iter) or scale the data as shown in:\n",
      "    https://scikit-learn.org/stable/modules/preprocessing.html\n",
      "Please also refer to the documentation for alternative solver options:\n",
      "    https://scikit-learn.org/stable/modules/linear_model.html#logistic-regression\n",
      "  n_iter_i = _check_optimize_result(\n",
      "/Users/prathikchukkapalli/opt/miniconda3/envs/dsi/lib/python3.9/site-packages/sklearn/linear_model/_logistic.py:763: ConvergenceWarning: lbfgs failed to converge (status=1):\n",
      "STOP: TOTAL NO. of ITERATIONS REACHED LIMIT.\n",
      "\n",
      "Increase the number of iterations (max_iter) or scale the data as shown in:\n",
      "    https://scikit-learn.org/stable/modules/preprocessing.html\n",
      "Please also refer to the documentation for alternative solver options:\n",
      "    https://scikit-learn.org/stable/modules/linear_model.html#logistic-regression\n",
      "  n_iter_i = _check_optimize_result(\n",
      "/Users/prathikchukkapalli/opt/miniconda3/envs/dsi/lib/python3.9/site-packages/sklearn/linear_model/_logistic.py:763: ConvergenceWarning: lbfgs failed to converge (status=1):\n",
      "STOP: TOTAL NO. of ITERATIONS REACHED LIMIT.\n",
      "\n",
      "Increase the number of iterations (max_iter) or scale the data as shown in:\n",
      "    https://scikit-learn.org/stable/modules/preprocessing.html\n",
      "Please also refer to the documentation for alternative solver options:\n",
      "    https://scikit-learn.org/stable/modules/linear_model.html#logistic-regression\n",
      "  n_iter_i = _check_optimize_result(\n"
     ]
    },
    {
     "data": {
      "text/plain": [
       "GridSearchCV(cv=5,\n",
       "             estimator=Pipeline(steps=[('cs',\n",
       "                                        ColumnTransformer(remainder='passthrough',\n",
       "                                                          transformers=[('text_vect',\n",
       "                                                                         CountVectorizer(),\n",
       "                                                                         'comments')])),\n",
       "                                       ('log', LogisticRegression())]),\n",
       "             param_grid={'log__max_iter': [3500, 4000]})"
      ]
     },
     "execution_count": 264,
     "metadata": {},
     "output_type": "execute_result"
    }
   ],
   "source": [
    "gs.fit(X_1train,y_train)"
   ]
  },
  {
   "cell_type": "code",
   "execution_count": 265,
   "id": "dd4ff8c1-a973-4970-baa8-65028b3d8559",
   "metadata": {},
   "outputs": [
    {
     "data": {
      "text/plain": [
       "0.989809680803237"
      ]
     },
     "execution_count": 265,
     "metadata": {},
     "output_type": "execute_result"
    }
   ],
   "source": [
    "gs.score(X_1train, y_train)"
   ]
  },
  {
   "cell_type": "code",
   "execution_count": 266,
   "id": "eb84f442-0015-4371-8cc5-8d160b2c38e6",
   "metadata": {},
   "outputs": [
    {
     "data": {
      "text/plain": [
       "0.7004543865781195"
      ]
     },
     "execution_count": 266,
     "metadata": {},
     "output_type": "execute_result"
    }
   ],
   "source": [
    "gs.score(X_1test,y_test)"
   ]
  },
  {
   "cell_type": "code",
   "execution_count": 267,
   "id": "9b818285-2b43-4347-bb43-b8b125957b99",
   "metadata": {},
   "outputs": [
    {
     "data": {
      "text/plain": [
       "0.6873974248830642"
      ]
     },
     "execution_count": 267,
     "metadata": {},
     "output_type": "execute_result"
    }
   ],
   "source": [
    "gs.best_score_"
   ]
  },
  {
   "cell_type": "code",
   "execution_count": 268,
   "id": "c845af37-02ba-45da-8b7a-ae5306fbdc20",
   "metadata": {},
   "outputs": [
    {
     "data": {
      "text/plain": [
       "{'log__max_iter': 4000}"
      ]
     },
     "execution_count": 268,
     "metadata": {},
     "output_type": "execute_result"
    }
   ],
   "source": [
    "gs.best_params_"
   ]
  },
  {
   "cell_type": "markdown",
   "id": "11427be8-2d40-4fec-95fe-b5961b5e28ef",
   "metadata": {},
   "source": [
    "Had a worse test score and is very overfit, will continue with Adaboost Model instead of Logistic Regression."
   ]
  },
  {
   "cell_type": "code",
   "execution_count": 271,
   "id": "6969d327-5778-4ae8-aac9-b9be13c991d9",
   "metadata": {},
   "outputs": [],
   "source": [
    "pipe_ada = Pipeline([\n",
    "        ('cs', ColumnTransformer([\n",
    "    ('text_vect', CountVectorizer(), 'comments')],\n",
    "    remainder ='passthrough',\n",
    ")),\n",
    "        ('ada', AdaBoostClassifier())\n",
    "    ])\n",
    "\n"
   ]
  },
  {
   "cell_type": "code",
   "execution_count": 280,
   "id": "13c8c652-c95a-4128-a3b0-c64ce62c46c2",
   "metadata": {},
   "outputs": [],
   "source": [
    "params = {\n",
    "    'cs__text_vect__max_features' : [450,500],\n",
    "    'cs__text_vect__min_df' : [100,150],\n",
    "    'cs__text_vect__max_df' : [.80,0.85]\n",
    "}"
   ]
  },
  {
   "cell_type": "code",
   "execution_count": 281,
   "id": "195ff0c7-4af7-46a3-9626-37e8b4932a94",
   "metadata": {},
   "outputs": [],
   "source": [
    "gs = GridSearchCV(estimator = pipe_ada, param_grid = params, cv = 5)"
   ]
  },
  {
   "cell_type": "code",
   "execution_count": 282,
   "id": "a0f4b373-3753-4a6c-b959-6297c042d758",
   "metadata": {},
   "outputs": [
    {
     "data": {
      "text/plain": [
       "GridSearchCV(cv=5,\n",
       "             estimator=Pipeline(steps=[('cs',\n",
       "                                        ColumnTransformer(remainder='passthrough',\n",
       "                                                          transformers=[('text_vect',\n",
       "                                                                         CountVectorizer(),\n",
       "                                                                         'comments')])),\n",
       "                                       ('ada', AdaBoostClassifier())]),\n",
       "             param_grid={'cs__text_vect__max_df': [0.8, 0.85],\n",
       "                         'cs__text_vect__max_features': [450, 500],\n",
       "                         'cs__text_vect__min_df': [100, 150]})"
      ]
     },
     "execution_count": 282,
     "metadata": {},
     "output_type": "execute_result"
    }
   ],
   "source": [
    "gs.fit(X_1train,y_train)"
   ]
  },
  {
   "cell_type": "code",
   "execution_count": 283,
   "id": "c4e19dc6-af70-4ebd-bdc5-6b71183209bb",
   "metadata": {},
   "outputs": [
    {
     "data": {
      "text/plain": [
       "0.7567810579949048"
      ]
     },
     "execution_count": 283,
     "metadata": {},
     "output_type": "execute_result"
    }
   ],
   "source": [
    "gs.score(X_1train, y_train)"
   ]
  },
  {
   "cell_type": "code",
   "execution_count": 284,
   "id": "a1d271a5-9cd9-4510-8c9f-fe0566c0d52a",
   "metadata": {},
   "outputs": [
    {
     "data": {
      "text/plain": [
       "0.7357567284166375"
      ]
     },
     "execution_count": 284,
     "metadata": {},
     "output_type": "execute_result"
    }
   ],
   "source": [
    "gs.score(X_1test,y_test)"
   ]
  },
  {
   "cell_type": "code",
   "execution_count": 285,
   "id": "9a72c6d1-3fb2-463b-b0cc-7a62c47795b0",
   "metadata": {},
   "outputs": [
    {
     "data": {
      "text/plain": [
       "0.7361011629016951"
      ]
     },
     "execution_count": 285,
     "metadata": {},
     "output_type": "execute_result"
    }
   ],
   "source": [
    "gs.best_score_"
   ]
  },
  {
   "cell_type": "code",
   "execution_count": 286,
   "id": "30d731ff-999c-4f1c-bb5d-cf4cfb44f077",
   "metadata": {},
   "outputs": [
    {
     "data": {
      "text/plain": [
       "{'cs__text_vect__max_df': 0.85,\n",
       " 'cs__text_vect__max_features': 500,\n",
       " 'cs__text_vect__min_df': 100}"
      ]
     },
     "execution_count": 286,
     "metadata": {},
     "output_type": "execute_result"
    }
   ],
   "source": [
    "gs.best_params_"
   ]
  },
  {
   "cell_type": "code",
   "execution_count": 287,
   "id": "5094fb85-f574-4e6f-86ad-5aee988622fa",
   "metadata": {},
   "outputs": [],
   "source": [
    "preds = gs.predict(X_1test)\n",
    "tn, fp, fn, tp = confusion_matrix(y_test, preds).ravel()"
   ]
  },
  {
   "cell_type": "code",
   "execution_count": 288,
   "id": "c5dce46d-8e9c-49c8-afc9-866aacc82901",
   "metadata": {},
   "outputs": [
    {
     "data": {
      "image/png": "[encoded data removed]",
      "text/plain": [
       "<Figure size 432x288 with 2 Axes>"
      ]
     },
     "metadata": {
      "needs_background": "light"
     },
     "output_type": "display_data"
    }
   ],
   "source": [
    "plot_confusion_matrix(gs, X_1test, y_test, cmap='Blues', values_format='d');"
   ]
  },
  {
   "cell_type": "code",
   "execution_count": 289,
   "id": "2d330559-61f7-4965-8240-754fcd28adc0",
   "metadata": {},
   "outputs": [
    {
     "data": {
      "text/plain": [
       "0.751869476546567"
      ]
     },
     "execution_count": 289,
     "metadata": {},
     "output_type": "execute_result"
    }
   ],
   "source": [
    "spec = tn / (tn + fp)\n",
    "spec"
   ]
  },
  {
   "cell_type": "markdown",
   "id": "9a9686b7-7410-4b3f-8c88-54e53d044c9d",
   "metadata": {},
   "source": [
    "The best model was adaboost classifier with a column transformer. It had the highest test score and was the least overfit. The specificity which measures how well the model is at predicting true negatives is about 75%."
   ]
  },
  {
   "cell_type": "code",
   "execution_count": null,
   "id": "59161d8c-1269-4033-af5f-185cccccb508",
   "metadata": {},
   "outputs": [],
   "source": []
  }
 ],
 "metadata": {
  "kernelspec": {
   "display_name": "Python [conda env:dsi]",
   "language": "python",
   "name": "conda-env-dsi-py"
  },
  "language_info": {
   "codemirror_mode": {
    "name": "ipython",
    "version": 3
   },
   "file_extension": ".py",
   "mimetype": "text/x-python",
   "name": "python",
   "nbconvert_exporter": "python",
   "pygments_lexer": "ipython3",
   "version": "3.9.7"
  }
 },
 "nbformat": 4,
 "nbformat_minor": 5
}
