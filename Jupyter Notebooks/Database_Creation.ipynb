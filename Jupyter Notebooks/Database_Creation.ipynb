{
 "cells": [
  {
   "cell_type": "code",
   "execution_count": 5,
   "id": "da1547d6-1b09-4e15-ae44-a0355d22c658",
   "metadata": {},
   "outputs": [],
   "source": [
    "import sqlite3\n",
    "import pandas as pd"
   ]
  },
  {
   "cell_type": "code",
   "execution_count": 2,
   "id": "0ac68910-9dee-499f-994a-0e071c372de8",
   "metadata": {},
   "outputs": [],
   "source": [
    "con = sqlite3.connect('airbnb.db')"
   ]
  },
  {
   "cell_type": "code",
   "execution_count": 3,
   "id": "4d15d237-a1ab-41ab-9da3-94a52a4d0c3b",
   "metadata": {},
   "outputs": [],
   "source": [
    "cur = con.cursor()"
   ]
  },
  {
   "cell_type": "code",
   "execution_count": 9,
   "id": "0b1f4b5d-f0ae-425e-9a56-6b2358f4d9f1",
   "metadata": {},
   "outputs": [],
   "source": [
    "listings = pd.read_csv('listings-1.csv')"
   ]
  },
  {
   "cell_type": "code",
   "execution_count": 10,
   "id": "40279727-1799-4457-8866-281c7207edcb",
   "metadata": {},
   "outputs": [
    {
     "data": {
      "text/html": [
       "<div>\n",
       "<style scoped>\n",
       "    .dataframe tbody tr th:only-of-type {\n",
       "        vertical-align: middle;\n",
       "    }\n",
       "\n",
       "    .dataframe tbody tr th {\n",
       "        vertical-align: top;\n",
       "    }\n",
       "\n",
       "    .dataframe thead th {\n",
       "        text-align: right;\n",
       "    }\n",
       "</style>\n",
       "<table border=\"1\" class=\"dataframe\">\n",
       "  <thead>\n",
       "    <tr style=\"text-align: right;\">\n",
       "      <th></th>\n",
       "      <th>id</th>\n",
       "      <th>name</th>\n",
       "      <th>host_location</th>\n",
       "      <th>host_response_time</th>\n",
       "      <th>host_response_rate</th>\n",
       "      <th>host_is_superhost</th>\n",
       "      <th>review_scores_rating</th>\n",
       "      <th>reviews_per_month</th>\n",
       "    </tr>\n",
       "  </thead>\n",
       "  <tbody>\n",
       "    <tr>\n",
       "      <th>0</th>\n",
       "      <td>5456.0</td>\n",
       "      <td>Walk to 6th, Rainey St and Convention Ctr</td>\n",
       "      <td>Austin, Texas, United States</td>\n",
       "      <td>within a few hours</td>\n",
       "      <td>100%</td>\n",
       "      <td>t</td>\n",
       "      <td>4.83</td>\n",
       "      <td>3.72</td>\n",
       "    </tr>\n",
       "    <tr>\n",
       "      <th>1</th>\n",
       "      <td>5769.0</td>\n",
       "      <td>NW Austin Room</td>\n",
       "      <td>Austin, Texas, United States</td>\n",
       "      <td>within a day</td>\n",
       "      <td>100%</td>\n",
       "      <td>f</td>\n",
       "      <td>4.90</td>\n",
       "      <td>1.78</td>\n",
       "    </tr>\n",
       "    <tr>\n",
       "      <th>2</th>\n",
       "      <td>6413.0</td>\n",
       "      <td>Gem of a Studio near Downtown</td>\n",
       "      <td>Austin, Texas, United States</td>\n",
       "      <td>within a few hours</td>\n",
       "      <td>86%</td>\n",
       "      <td>t</td>\n",
       "      <td>4.97</td>\n",
       "      <td>0.78</td>\n",
       "    </tr>\n",
       "    <tr>\n",
       "      <th>3</th>\n",
       "      <td>6448.0</td>\n",
       "      <td>Secluded Studio @ Zilker - King Bed, Bright &amp; ...</td>\n",
       "      <td>Austin, Texas, United States</td>\n",
       "      <td>within an hour</td>\n",
       "      <td>100%</td>\n",
       "      <td>t</td>\n",
       "      <td>4.97</td>\n",
       "      <td>2.12</td>\n",
       "    </tr>\n",
       "    <tr>\n",
       "      <th>4</th>\n",
       "      <td>341382.0</td>\n",
       "      <td>SXSW | 4 bedroom home near Downtown</td>\n",
       "      <td>Austin, Texas, United States</td>\n",
       "      <td>NaN</td>\n",
       "      <td>NaN</td>\n",
       "      <td>f</td>\n",
       "      <td>4.72</td>\n",
       "      <td>0.99</td>\n",
       "    </tr>\n",
       "  </tbody>\n",
       "</table>\n",
       "</div>"
      ],
      "text/plain": [
       "         id                                               name  \\\n",
       "0    5456.0          Walk to 6th, Rainey St and Convention Ctr   \n",
       "1    5769.0                                     NW Austin Room   \n",
       "2    6413.0                      Gem of a Studio near Downtown   \n",
       "3    6448.0  Secluded Studio @ Zilker - King Bed, Bright & ...   \n",
       "4  341382.0                SXSW | 4 bedroom home near Downtown   \n",
       "\n",
       "                  host_location  host_response_time host_response_rate  \\\n",
       "0  Austin, Texas, United States  within a few hours               100%   \n",
       "1  Austin, Texas, United States        within a day               100%   \n",
       "2  Austin, Texas, United States  within a few hours                86%   \n",
       "3  Austin, Texas, United States      within an hour               100%   \n",
       "4  Austin, Texas, United States                 NaN                NaN   \n",
       "\n",
       "  host_is_superhost  review_scores_rating  reviews_per_month  \n",
       "0                 t                  4.83               3.72  \n",
       "1                 f                  4.90               1.78  \n",
       "2                 t                  4.97               0.78  \n",
       "3                 t                  4.97               2.12  \n",
       "4                 f                  4.72               0.99  "
      ]
     },
     "execution_count": 10,
     "metadata": {},
     "output_type": "execute_result"
    }
   ],
   "source": [
    "listings.head()"
   ]
  },
  {
   "cell_type": "code",
   "execution_count": 13,
   "id": "856c67c1-2ad0-4f85-96a2-5b18d7aaa738",
   "metadata": {},
   "outputs": [],
   "source": [
    "listings.to_sql('listings',con)"
   ]
  },
  {
   "cell_type": "code",
   "execution_count": 19,
   "id": "c88f54ba-50eb-4252-9362-4bfe11fc63d6",
   "metadata": {},
   "outputs": [],
   "source": [
    "reviews_austin = pd.read_csv('reviews (7) 2.csv')"
   ]
  },
  {
   "cell_type": "code",
   "execution_count": 21,
   "id": "6b4fdc88-1fcc-41fd-ba56-de3bbdbd2bdb",
   "metadata": {},
   "outputs": [],
   "source": [
    "reviews_austin.to_sql('reviews_austin',con)"
   ]
  },
  {
   "cell_type": "markdown",
   "id": "0ade3d0d-58f3-4090-ad18-29a640f8562d",
   "metadata": {},
   "source": [
    "This created a database, that I used sql on to create a csv that joined the necessary columns needed from different csvs."
   ]
  },
  {
   "cell_type": "code",
   "execution_count": null,
   "id": "2021ff54-fc01-4dd2-8a8a-708ca89e52f3",
   "metadata": {},
   "outputs": [],
   "source": []
  },
  {
   "cell_type": "code",
   "execution_count": null,
   "id": "d36eea1a-0ec0-428b-b01b-c7d556c18d90",
   "metadata": {},
   "outputs": [],
   "source": []
  },
  {
   "cell_type": "code",
   "execution_count": null,
   "id": "09e9497a-ba79-45f2-8436-94c883c2e60b",
   "metadata": {},
   "outputs": [],
   "source": []
  },
  {
   "cell_type": "code",
   "execution_count": null,
   "id": "cc186e2e-8586-48e8-a3de-d16fd81ad883",
   "metadata": {},
   "outputs": [],
   "source": []
  },
  {
   "cell_type": "code",
   "execution_count": null,
   "id": "01009582-68a6-43eb-a236-0f20e3be8e76",
   "metadata": {},
   "outputs": [],
   "source": []
  },
  {
   "cell_type": "code",
   "execution_count": null,
   "id": "56af0d68-2c48-49a7-b762-b22ec0bf9f39",
   "metadata": {},
   "outputs": [],
   "source": []
  },
  {
   "cell_type": "code",
   "execution_count": null,
   "id": "c64f1dbe-9809-4a9f-b562-c51554076174",
   "metadata": {},
   "outputs": [],
   "source": []
  },
  {
   "cell_type": "code",
   "execution_count": null,
   "id": "5afc47d1-7a12-4b2d-85c3-235706eddb20",
   "metadata": {},
   "outputs": [],
   "source": []
  }
 ],
 "metadata": {
  "kernelspec": {
   "display_name": "Python [conda env:dsi]",
   "language": "python",
   "name": "conda-env-dsi-py"
  },
  "language_info": {
   "codemirror_mode": {
    "name": "ipython",
    "version": 3
   },
   "file_extension": ".py",
   "mimetype": "text/x-python",
   "name": "python",
   "nbconvert_exporter": "python",
   "pygments_lexer": "ipython3",
   "version": "3.9.7"
  }
 },
 "nbformat": 4,
 "nbformat_minor": 5
}
